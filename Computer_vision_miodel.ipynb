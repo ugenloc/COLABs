{
  "nbformat": 4,
  "nbformat_minor": 0,
  "metadata": {
    "colab": {
      "name": "Computer_vision_miodel.ipynb",
      "provenance": [],
      "authorship_tag": "ABX9TyM7m3Z4F06HJuq0MwquWeSv",
      "include_colab_link": true
    },
    "kernelspec": {
      "name": "python3",
      "display_name": "Python 3"
    },
    "accelerator": "TPU"
  },
  "cells": [
    {
      "cell_type": "markdown",
      "metadata": {
        "id": "view-in-github",
        "colab_type": "text"
      },
      "source": [
        "<a href=\"https://colab.research.google.com/github/ugenloc/COLABs/blob/master/Computer_vision_miodel.ipynb\" target=\"_parent\"><img src=\"https://colab.research.google.com/assets/colab-badge.svg\" alt=\"Open In Colab\"/></a>"
      ]
    },
    {
      "cell_type": "markdown",
      "metadata": {
        "id": "dBwVDKh1H_ud"
      },
      "source": [
        "# **Computer vision model**\r\n",
        "\r\n",
        "In this colab pratical, I will create a computer vision model that can recorgnise items of clothing with TensorFlow.\r\n",
        "\r\n",
        "I will be using a clothing dataset called [Fashion MNIST](https://github.com/zalandoresearch/fashion-mnist). The dataset consist of 70,000 examples and 10 categories.\r\n",
        "\r\n",
        "\r\n",
        "\r\n",
        "**Data source:**    [Fashion MNIST](https://github.com/zalandoresearch/fashion-mnist)\\\r\n",
        "**Number of examples:**    70,000\\\r\n",
        "**Number of categories:**    10\\\r\n",
        "**Image type:**    Grayscale\\\r\n",
        "**Image size:**    28*28"
      ]
    },
    {
      "cell_type": "markdown",
      "metadata": {
        "id": "-qiZQ4iYSwXA"
      },
      "source": [
        "## **Import libraries**"
      ]
    },
    {
      "cell_type": "code",
      "metadata": {
        "id": "uthm40fMMIK5"
      },
      "source": [
        "import tensorflow as tf\r\n",
        "from tensorflow import keras\r\n",
        "import numpy\r\n",
        "#import pandas as pd\r\n",
        "import matplotlib.pyplot as plt\r\n",
        "\r\n"
      ],
      "execution_count": 21,
      "outputs": []
    },
    {
      "cell_type": "markdown",
      "metadata": {
        "id": "9SLUhQviS5Ct"
      },
      "source": [
        "## **Load dataset**"
      ]
    },
    {
      "cell_type": "code",
      "metadata": {
        "id": "9GlYCbafMQH8"
      },
      "source": [
        "mnist = tf.keras.datasets.fashion_mnist\r\n",
        "(training_images, training_labels), (test_images, test_labels) = mnist.load_data()"
      ],
      "execution_count": 12,
      "outputs": []
    },
    {
      "cell_type": "markdown",
      "metadata": {
        "id": "epLIquQ3TO3M"
      },
      "source": [
        "## **Plot**"
      ]
    },
    {
      "cell_type": "code",
      "metadata": {
        "id": "8wUejasvTWRJ"
      },
      "source": [
        "plt.imshow(training_images[0])\r\n",
        "print(training_labels[0])\r\n",
        "print(training_images[0])"
      ],
      "execution_count": null,
      "outputs": []
    },
    {
      "cell_type": "markdown",
      "metadata": {
        "id": "Kjw2xW8iVXJU"
      },
      "source": [
        "## **Normalize the dataset**\r\n",
        "\r\n",
        "Normalization reduces the complexity of problem our neural network is trying to solve"
      ]
    },
    {
      "cell_type": "code",
      "metadata": {
        "id": "covytCABVbRH"
      },
      "source": [
        "training_images  = training_images / 255.0\r\n",
        "test_images = test_images / 255.0"
      ],
      "execution_count": 19,
      "outputs": []
    },
    {
      "cell_type": "markdown",
      "metadata": {
        "id": "kUF5j60gW_KN"
      },
      "source": [
        "## **Design the model**\r\n"
      ]
    },
    {
      "cell_type": "code",
      "metadata": {
        "id": "aLN6dahYXG6U"
      },
      "source": [
        "model = tf.keras.models.Sequential([tf.keras.layers.Flatten(), \r\n",
        "                                    tf.keras.layers.Dense(512, activation=tf.nn.relu), \r\n",
        "                                    tf.keras.layers.Dense(10, activation=tf.nn.softmax)])"
      ],
      "execution_count": 20,
      "outputs": []
    },
    {
      "cell_type": "markdown",
      "metadata": {
        "id": "ENUCpLMpbuLw"
      },
      "source": [
        "## **Compile and train the model.**"
      ]
    },
    {
      "cell_type": "code",
      "metadata": {
        "id": "ofFikVy9b2CY"
      },
      "source": [
        "model.compile(optimizer = 'Adam',\r\n",
        "              loss = 'sparse_categorical_crossentropy',\r\n",
        "              metrics=['accuracy'])\r\n",
        "\r\n",
        "model.fit(training_images, training_labels, epochs=10)"
      ],
      "execution_count": null,
      "outputs": []
    },
    {
      "cell_type": "code",
      "metadata": {
        "id": "5Kd-F_PMdfN_"
      },
      "source": [
        ""
      ],
      "execution_count": 16,
      "outputs": []
    },
    {
      "cell_type": "markdown",
      "metadata": {
        "id": "zFS72RqjgVZR"
      },
      "source": [
        "## **Test the model**\r\n",
        "\r\n",
        "Evaluation of the model."
      ]
    },
    {
      "cell_type": "code",
      "metadata": {
        "colab": {
          "base_uri": "https://localhost:8080/"
        },
        "id": "W0W-Ri2BgbZs",
        "outputId": "5578fa9b-9c57-4a90-f8ac-15688f8e0b88"
      },
      "source": [
        "model.evaluate(test_images, test_labels)\r\n",
        "print(test_labels[0])\r\n"
      ],
      "execution_count": 17,
      "outputs": [
        {
          "output_type": "stream",
          "text": [
            "313/313 [==============================] - 1s 2ms/step - loss: 0.5490 - accuracy: 0.8267\n",
            "9\n"
          ],
          "name": "stdout"
        }
      ]
    },
    {
      "cell_type": "markdown",
      "metadata": {
        "id": "RnlhkFjoj2A2"
      },
      "source": [
        "## **Make predictions with the model\"**"
      ]
    },
    {
      "cell_type": "code",
      "metadata": {
        "colab": {
          "base_uri": "https://localhost:8080/"
        },
        "id": "tv7p0_UEjzLE",
        "outputId": "bc600e35-3923-4104-cfae-def0518948c5"
      },
      "source": [
        "classifications = model.predict(test_images)\r\n",
        "print(classifications[0])\r\n",
        "print(test_labels[0])"
      ],
      "execution_count": 18,
      "outputs": [
        {
          "output_type": "stream",
          "text": [
            "[9.0407309e-18 2.1677899e-14 6.7035610e-30 3.8321960e-16 3.4215209e-37\n",
            " 1.2012224e-03 3.6305393e-21 1.0190065e-01 1.2515426e-17 8.9689809e-01]\n",
            "9\n"
          ],
          "name": "stdout"
        }
      ]
    },
    {
      "cell_type": "code",
      "metadata": {
        "id": "vDT4SzIWj82X"
      },
      "source": [
        ""
      ],
      "execution_count": 18,
      "outputs": []
    }
  ]
}