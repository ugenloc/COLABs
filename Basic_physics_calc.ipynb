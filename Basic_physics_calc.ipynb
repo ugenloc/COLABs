{
  "nbformat": 4,
  "nbformat_minor": 0,
  "metadata": {
    "colab": {
      "name": "Basic_physics_calc.ipynb",
      "provenance": [],
      "authorship_tag": "ABX9TyPscTPsyQL9TxZOdBPISHps",
      "include_colab_link": true
    },
    "kernelspec": {
      "name": "python3",
      "display_name": "Python 3"
    }
  },
  "cells": [
    {
      "cell_type": "markdown",
      "metadata": {
        "id": "view-in-github",
        "colab_type": "text"
      },
      "source": [
        "<a href=\"https://colab.research.google.com/github/ugenloc/COLABs/blob/master/Basic_physics_calc.ipynb\" target=\"_parent\"><img src=\"https://colab.research.google.com/assets/colab-badge.svg\" alt=\"Open In Colab\"/></a>"
      ]
    },
    {
      "cell_type": "markdown",
      "metadata": {
        "id": "UrL183AdOiRF"
      },
      "source": [
        "# **Basic physics calculator app**\r\n"
      ]
    },
    {
      "cell_type": "markdown",
      "metadata": {
        "id": "EPYT3aOfPjrC"
      },
      "source": [
        "This colab is a basic physics calculator app that returns solution to some basic problems in physics.\r\n",
        "\r\n",
        "Kindly follow the coding standard to contribute more formula!"
      ]
    },
    {
      "cell_type": "code",
      "metadata": {
        "id": "upgIN-WFP7ns"
      },
      "source": [
        "def average_speed(d, t):\r\n",
        "    \"\"\"\r\n",
        "    \r\n",
        "\r\n",
        "    Parameters\r\n",
        "    ----------\r\n",
        "    d : Numeric\r\n",
        "        Distance.\r\n",
        "    t : Time\r\n",
        "        Time taken.\r\n",
        "\r\n",
        "    Returns\r\n",
        "    -------\r\n",
        "    Numeric\r\n",
        "        Average speed of a moving body.\r\n",
        "\r\n",
        "    Example\r\n",
        "    -------\r\n",
        "        print(average_speed(60,45))\r\n",
        "\r\n",
        "    \"\"\"\r\n",
        "    return d/t"
      ],
      "execution_count": 2,
      "outputs": []
    },
    {
      "cell_type": "code",
      "metadata": {
        "id": "1YqG1DYNQF8F"
      },
      "source": [
        "def velocity(u, a, t):\r\n",
        "    \"\"\"\r\n",
        "    \r\n",
        "\r\n",
        "    Parameters\r\n",
        "    ----------\r\n",
        "    u : Numeric\r\n",
        "        Initial velocity.\r\n",
        "    a : Numeric\r\n",
        "        Acceleration\r\n",
        "    t : Numeric\r\n",
        "        Time taken.\r\n",
        "\r\n",
        "    Returns\r\n",
        "    -------\r\n",
        "    Numeric\r\n",
        "        Final velocity of a body.\r\n",
        "\r\n",
        "    Example\r\n",
        "    -------\r\n",
        "        print(velocity(0,9.8,45))\r\n",
        "\r\n",
        "    \"\"\"\r\n",
        "    return u+a*t"
      ],
      "execution_count": null,
      "outputs": []
    },
    {
      "cell_type": "code",
      "metadata": {
        "id": "-VpKIcQ3QGCo"
      },
      "source": [
        "def acceleration(u, v, t):\r\n",
        "    \"\"\"\r\n",
        "    \r\n",
        "\r\n",
        "    Parameters\r\n",
        "    ----------\r\n",
        "    u : Numeric\r\n",
        "        Initial velocity.\r\n",
        "    v : Numeric\r\n",
        "        Final velocity.\r\n",
        "    t : Numeric\r\n",
        "        Time taken.\r\n",
        "\r\n",
        "    Returns\r\n",
        "    -------\r\n",
        "    Numeric\r\n",
        "        Acceleration due to gravity of a body.\r\n",
        "\r\n",
        "    Example\r\n",
        "    -------\r\n",
        "        print(acceleration(0,90,60))\r\n",
        "\r\n",
        "    \"\"\"\r\n",
        "    return v-u/t"
      ],
      "execution_count": null,
      "outputs": []
    },
    {
      "cell_type": "code",
      "metadata": {
        "id": "Eb6fyfjJQGJv"
      },
      "source": [
        "def displacement(u, t, a,):\r\n",
        "    \"\"\"\r\n",
        "    \r\n",
        "\r\n",
        "    Parameters\r\n",
        "    ----------\r\n",
        "    u : Numeric\r\n",
        "        Initial Velocity.\r\n",
        "    t : Time\r\n",
        "        Time taken.\r\n",
        "    a : Numeric\r\n",
        "        Acceleration.\r\n",
        "\r\n",
        "    Returns\r\n",
        "    -------\r\n",
        "    Numeric\r\n",
        "        The displacement of an object.\r\n",
        "\r\n",
        "    Example\r\n",
        "    -------\r\n",
        "        print(displacement(0,40,9.8))\r\n",
        "\r\n",
        "    \"\"\"\r\n",
        "    return u*t+0.5*a*t**2"
      ],
      "execution_count": null,
      "outputs": []
    },
    {
      "cell_type": "code",
      "metadata": {
        "id": "iVNWV5bHQGQH"
      },
      "source": [
        "def force(m, a):\r\n",
        "    \"\"\"\r\n",
        "    \r\n",
        "\r\n",
        "    Parameters\r\n",
        "    ----------\r\n",
        "    m : Numeric\r\n",
        "        Mass of the body.\r\n",
        "    a : Numeric\r\n",
        "        Acceleration in velocity available.\r\n",
        "\r\n",
        "    Returns\r\n",
        "    -------\r\n",
        "    Numeric\r\n",
        "        Force applied.\r\n",
        "\r\n",
        "    Example\r\n",
        "    -------\r\n",
        "        print(force(56,9.8))\r\n",
        "\r\n",
        "    \"\"\"\r\n",
        "    return m*a"
      ],
      "execution_count": null,
      "outputs": []
    },
    {
      "cell_type": "code",
      "metadata": {
        "id": "dTbJy6x_QGV-"
      },
      "source": [
        "def weight(m, g):\r\n",
        "    \"\"\"\r\n",
        "    \r\n",
        "\r\n",
        "    Parameters\r\n",
        "    ----------\r\n",
        "    m : Numeric\r\n",
        "        mass of an object.\r\n",
        "    g : Numeric\r\n",
        "        Acceleration due to gravity.\r\n",
        "\r\n",
        "    Returns\r\n",
        "    -------\r\n",
        "    Numeric\r\n",
        "        Weight of an object.\r\n",
        "\r\n",
        "    Example\r\n",
        "    -------\r\n",
        "        print(weight(39,9.8))\r\n",
        "\r\n",
        "    \"\"\"\r\n",
        "    return m*g"
      ],
      "execution_count": null,
      "outputs": []
    },
    {
      "cell_type": "code",
      "metadata": {
        "id": "j-1qjCdgQGbg"
      },
      "source": [
        "def potential_energy(m, g, h):\r\n",
        "    \"\"\"\r\n",
        "    \r\n",
        "\r\n",
        "    Parameters\r\n",
        "    ----------\r\n",
        "    m : Numeric\r\n",
        "        Mass of an object.\r\n",
        "    g : Numeric\r\n",
        "        Acceleration due to gravity.\r\n",
        "    h : height\r\n",
        "        initial height of the object.\r\n",
        "\r\n",
        "    Returns\r\n",
        "    -------\r\n",
        "    Numeric\r\n",
        "        Energy at rest.\r\n",
        "\r\n",
        "    Example\r\n",
        "    -------\r\n",
        "        print(potential_energy(18,9.8,187))\r\n",
        "\r\n",
        "    \"\"\"\r\n",
        "    return m*g*h"
      ],
      "execution_count": null,
      "outputs": []
    },
    {
      "cell_type": "code",
      "metadata": {
        "id": "UaFugoHgQGhV"
      },
      "source": [
        "def Kinetic_energy(m, v):\r\n",
        "    \"\"\"\r\n",
        "    \r\n",
        "\r\n",
        "    Parameters\r\n",
        "    ----------\r\n",
        "    m : Numeric\r\n",
        "        Mass of the body.\r\n",
        "    v : Numeric\r\n",
        "        The velocity with which the body is traveling.\r\n",
        "\r\n",
        "    Returns\r\n",
        "    -------\r\n",
        "    Numeric\r\n",
        "        Energy at work.\r\n",
        "    \r\n",
        "    Example\r\n",
        "    -------\r\n",
        "        print(Kinetic_energy(69,45))\r\n",
        "\r\n",
        "    \"\"\"\r\n",
        "    return 0.5*m*v**2"
      ],
      "execution_count": 1,
      "outputs": []
    },
    {
      "cell_type": "code",
      "metadata": {
        "id": "H0wUKZcfQGnm"
      },
      "source": [
        "def density(m, v):\r\n",
        "    \"\"\"\r\n",
        "    \r\n",
        "\r\n",
        "    Parameters\r\n",
        "    ----------\r\n",
        "    m : numeric\r\n",
        "        Mass of the body.\r\n",
        "    v : numeric\r\n",
        "        The volume of the body\r\n",
        "\r\n",
        "    Returns\r\n",
        "    -------\r\n",
        "    Numeric\r\n",
        "        Denssity of a liquid.\r\n",
        "\r\n",
        "    Example\r\n",
        "    -------\r\n",
        "        print(density(55,5))\r\n",
        "\r\n",
        "    \"\"\"\r\n",
        "    return m/v"
      ],
      "execution_count": null,
      "outputs": []
    },
    {
      "cell_type": "code",
      "metadata": {
        "id": "AQ43zVdbVYMH"
      },
      "source": [
        "def pressure(f,a):\r\n",
        "    \"\"\"\r\n",
        "    \r\n",
        "\r\n",
        "    Parameters\r\n",
        "    ----------\r\n",
        "    f : Numeric\r\n",
        "        Force applied.\r\n",
        "    a : Numeric\r\n",
        "        Total area of the object.\r\n",
        "\r\n",
        "    Returns\r\n",
        "    -------\r\n",
        "    Numeric \r\n",
        "        Returns the pressure around a given area.\r\n",
        "\r\n",
        "    Example\r\n",
        "    -------\r\n",
        "        print(pressure(255,479))\r\n",
        "\r\n",
        "    \"\"\"\r\n",
        "    return f/a"
      ],
      "execution_count": null,
      "outputs": []
    }
  ]
}