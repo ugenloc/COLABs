{
  "nbformat": 4,
  "nbformat_minor": 0,
  "metadata": {
    "colab": {
      "name": "Numpy_Tutorial.ipynb",
      "provenance": [],
      "collapsed_sections": [],
      "authorship_tag": "ABX9TyNoiT2oaJU+Bo6B8aqiC+83",
      "include_colab_link": true
    },
    "kernelspec": {
      "display_name": "Python 3",
      "name": "python3"
    }
  },
  "cells": [
    {
      "cell_type": "markdown",
      "metadata": {
        "id": "view-in-github",
        "colab_type": "text"
      },
      "source": [
        "<a href=\"https://colab.research.google.com/github/ugenloc/COLABs/blob/master/Numpy_Tutorial.ipynb\" target=\"_parent\"><img src=\"https://colab.research.google.com/assets/colab-badge.svg\" alt=\"Open In Colab\"/></a>"
      ]
    },
    {
      "cell_type": "markdown",
      "metadata": {
        "id": "8hqN1s_ILFA7"
      },
      "source": [
        "# **Numpy tutorial**"
      ]
    },
    {
      "cell_type": "markdown",
      "metadata": {
        "id": "PwLCR9ovLbst"
      },
      "source": [
        "**Welcome to this quick numpy tutorial, in this colab tutorial you will learn:**\n",
        " \n",
        "* A concise and clear definition of numpy\n",
        "* Frequently used numpy attributes and methods\n",
        "* How to create a scalar, vector and matrix data \n",
        "* Basic operation \n",
        "* Unary/basic statistics with numpy \n",
        "* Basic indexing \n",
        "* Initializing array\n",
        "* Stacking \n",
        "* Beginner level application of numpy to machine learning : the Google way!"
      ]
    },
    {
      "cell_type": "markdown",
      "metadata": {
        "id": "dGKoZFY0MYcB"
      },
      "source": [
        "**Definition:**\n",
        " \n",
        "Numpy is a python library that is used  for creating scalar, vector, matrix and N-dimentional sequence of data."
      ]
    },
    {
      "cell_type": "markdown",
      "metadata": {
        "id": "xoZFwr0xNIa9"
      },
      "source": [
        "## **Frequently used attributes and methods**"
      ]
    },
    {
      "cell_type": "markdown",
      "metadata": {
        "id": "ob4CbfQzNfYt"
      },
      "source": [
        "**Shape**\n",
        "\n",
        "### The shape attribute is used to get the shape of an array, it returns a tuple of an array's dimension"
      ]
    },
    {
      "cell_type": "code",
      "metadata": {
        "colab": {
          "base_uri": "https://localhost:8080/"
        },
        "id": "u1ZZ6TCUXHlh",
        "outputId": "9dc50e78-2b66-4317-e21b-b00fa2c75832"
      },
      "source": [
        "import numpy as np\n",
        "x = np.array([[1,2,3],[4,5,6]])\n",
        "x.shape"
      ],
      "execution_count": null,
      "outputs": [
        {
          "output_type": "execute_result",
          "data": {
            "text/plain": [
              "(2, 3)"
            ]
          },
          "metadata": {
            "tags": []
          },
          "execution_count": 3
        }
      ]
    },
    {
      "cell_type": "markdown",
      "metadata": {
        "id": "oWEvN8NZNoHJ"
      },
      "source": [
        "**Size**\n",
        "\n",
        "### The size attribute returns the number of elements in an array"
      ]
    },
    {
      "cell_type": "code",
      "metadata": {
        "id": "E6QioYnuXKFk"
      },
      "source": [
        " \n",
        "x = np.array([[1,2,3],[4,5,6]])\n",
        "x.size"
      ],
      "execution_count": null,
      "outputs": []
    },
    {
      "cell_type": "markdown",
      "metadata": {
        "id": "uM4MgRImNtyw"
      },
      "source": [
        "**Ndim**\n",
        "\n",
        "### The ndim attribute returns the number of dimensions."
      ]
    },
    {
      "cell_type": "code",
      "metadata": {
        "id": "ipLusHsSXFBG"
      },
      "source": [
        "x = np.array([[1,2,3],[4,5,6]])\n",
        "x.ndim"
      ],
      "execution_count": null,
      "outputs": []
    },
    {
      "cell_type": "markdown",
      "metadata": {
        "id": "anZTEhm_N_6c"
      },
      "source": [
        "**Nbyte**\n",
        " \n",
        "### Nbyte attribute returns the total  bytes  of the elements of an array"
      ]
    },
    {
      "cell_type": "code",
      "metadata": {
        "id": "dKk1O49oOFGb"
      },
      "source": [
        "x = np.array([[1,2,3],[4,5,6]])\n",
        "x.nbyte"
      ],
      "execution_count": null,
      "outputs": []
    },
    {
      "cell_type": "markdown",
      "metadata": {
        "id": "0I7MtztjN19y"
      },
      "source": [
        "**Itemsize**\n",
        " \n",
        "### returns the lenght of an array element in byte."
      ]
    },
    {
      "cell_type": "code",
      "metadata": {
        "id": "NsD-TIQgNxoX"
      },
      "source": [
        "x = np.array([[1,2,3],[4,5,6]])\n",
        "x.itemsize"
      ],
      "execution_count": null,
      "outputs": []
    },
    {
      "cell_type": "markdown",
      "metadata": {
        "id": "4OnzJgyTOo_v"
      },
      "source": [
        "**Copy**\n",
        "\n",
        "### The copy method is used to do a deep copy of and object. It returns the copy of the object it copied."
      ]
    },
    {
      "cell_type": "code",
      "metadata": {
        "id": "efAwDmdsOtPg"
      },
      "source": [
        "x = np.array([[1,2,3],[4,5,6]])\n",
        "y = x.copy\n",
        "y"
      ],
      "execution_count": null,
      "outputs": []
    },
    {
      "cell_type": "markdown",
      "metadata": {
        "id": "V8HoxYQ1OxBj"
      },
      "source": [
        "**Fill**\n",
        " \n",
        "### Is used to porpulate an array with a scalar value."
      ]
    },
    {
      "cell_type": "code",
      "metadata": {
        "id": "RIgBuuSVO2yY"
      },
      "source": [
        "x = np.array([1,2,3]).fill(4)\r\n",
        "print(x)\r\n"
      ],
      "execution_count": null,
      "outputs": []
    },
    {
      "cell_type": "markdown",
      "metadata": {
        "id": "jFmbH-FecE4H"
      },
      "source": [
        "# **Basic operations in numpy**"
      ]
    },
    {
      "cell_type": "markdown",
      "metadata": {
        "id": "DPhrD_lScbAI"
      },
      "source": [
        "### Several types of mathematical  operations can be performed on scalar, vector and N-darray data with numpy.\r\n",
        "### Howerver, in this tutorial we will be looking as binary and unary operations."
      ]
    },
    {
      "cell_type": "code",
      "metadata": {
        "id": "INhKnGA9L5Fv",
        "colab": {
          "base_uri": "https://localhost:8080/"
        },
        "outputId": "c8394092-430d-4e7e-a5a3-65863168aa55"
      },
      "source": [
        "#Binary operation of two variables 'a and b',the third variable 'c' contains a operation where 'a and b' are the operands \"\"\"\r\n",
        "\r\n",
        "a = np.array([20,10,5,6])\r\n",
        "b = 4\r\n",
        "c = a-b\r\n",
        "print(c)"
      ],
      "execution_count": null,
      "outputs": [
        {
          "output_type": "stream",
          "text": [
            "[16  6  1  2]\n"
          ],
          "name": "stdout"
        }
      ]
    },
    {
      "cell_type": "code",
      "metadata": {
        "id": "UNdf5MJzM1lv",
        "colab": {
          "base_uri": "https://localhost:8080/"
        },
        "outputId": "92b6e8aa-f663-4703-c6e5-5eede55c9911"
      },
      "source": [
        "#Unary/basic statistic operation on a single variable\r\n",
        "\r\n",
        "a = np.random.randint(low=5, high=55, size=6)\r\n",
        "a.sum()  #returns the sum of the random integers\r\n",
        "a.min()  #returnd the minimum value of the random integers \r\n",
        "a.max() #returns the maximum value of the random integers"
      ],
      "execution_count": null,
      "outputs": [
        {
          "output_type": "execute_result",
          "data": {
            "text/plain": [
              "52"
            ]
          },
          "metadata": {
            "tags": []
          },
          "execution_count": 25
        }
      ]
    },
    {
      "cell_type": "markdown",
      "metadata": {
        "id": "F-FlvcBaQQ9c"
      },
      "source": [
        "# **Basic indexing**\r\n",
        "\r\n",
        "### indexing is mostly used to locate a particular value in a dataframe or dataset."
      ]
    },
    {
      "cell_type": "code",
      "metadata": {
        "id": "385S_rd7Qsf5"
      },
      "source": [
        "#This line of code arranges 100 into 10 rows and column\r\n",
        "a = np.arange(10,100)\r\n",
        "#To get the values of the 2nd row\r\n",
        "#a[1:]\r\n",
        "#To get the value of the 5th column in the 10th row\r\n",
        "a[9:6]\r\n",
        "\r\n"
      ],
      "execution_count": null,
      "outputs": []
    },
    {
      "cell_type": "markdown",
      "metadata": {
        "id": "HFU7ALo7VLPu"
      },
      "source": [
        "**Initializing array**"
      ]
    },
    {
      "cell_type": "code",
      "metadata": {
        "id": "o-M_a81iVRLK"
      },
      "source": [
        "#The line of code below returns 2 rows and 3 eliments filled with 0\r\n",
        "x = np.zeros((2,3))\r\n",
        "x"
      ],
      "execution_count": null,
      "outputs": []
    },
    {
      "cell_type": "code",
      "metadata": {
        "id": "_0tgo7L5sDoY"
      },
      "source": [
        ""
      ],
      "execution_count": null,
      "outputs": []
    }
  ]
}