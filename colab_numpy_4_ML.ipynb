{
  "nbformat": 4,
  "nbformat_minor": 0,
  "metadata": {
    "kernelspec": {
      "display_name": "Python 3",
      "language": "python",
      "name": "python3"
    },
    "language_info": {
      "codemirror_mode": {
        "name": "ipython",
        "version": 3
      },
      "file_extension": ".py",
      "mimetype": "text/x-python",
      "name": "python",
      "nbconvert_exporter": "python",
      "pygments_lexer": "ipython3",
      "version": "3.7.6"
    },
    "colab": {
      "name": "colab_numpy_4_ML.ipynb",
      "provenance": [],
      "include_colab_link": true
    },
    "accelerator": "TPU"
  },
  "cells": [
    {
      "cell_type": "markdown",
      "metadata": {
        "id": "view-in-github",
        "colab_type": "text"
      },
      "source": [
        "<a href=\"https://colab.research.google.com/github/ugenloc/COLABs/blob/master/colab_numpy_4_ML.ipynb\" target=\"_parent\"><img src=\"https://colab.research.google.com/assets/colab-badge.svg\" alt=\"Open In Colab\"/></a>"
      ]
    },
    {
      "cell_type": "markdown",
      "metadata": {
        "id": "SRa99VHqCFeB"
      },
      "source": [
        "# NUMPY FOR MACHINE LEARNING CRASH COURSE\n",
        ">This pratice is based on machine learning crash course by Google:\n",
        ">The pratice is strictly about how numpy is used in Ml crash course\n"
      ]
    },
    {
      "cell_type": "code",
      "metadata": {
        "id": "EG2R5ECyCFeL",
        "outputId": "cd001aba-de12-4893-d4c6-7986b20674bb"
      },
      "source": [
        "import matplotlib as plt\n",
        "import numpy as np\n",
        "import pandas as pd\n",
        "%matplotlib inline\n",
        "\n",
        "arr = np.array([[11,22,44],[6,7,8],[8,9,10],[11,12,13]])\n",
        "arr[3,1]"
      ],
      "execution_count": null,
      "outputs": [
        {
          "output_type": "execute_result",
          "data": {
            "text/plain": [
              "12"
            ]
          },
          "metadata": {
            "tags": []
          },
          "execution_count": 1
        }
      ]
    },
    {
      "cell_type": "markdown",
      "metadata": {
        "id": "7IKhrgBeCFeP"
      },
      "source": [
        "### To Create A 2 Dimentional Matrix: With specific values...\n"
      ]
    },
    {
      "cell_type": "code",
      "metadata": {
        "id": "bXzwJTKrCFeP",
        "outputId": "3ffe8277-eddd-4c0e-ffd9-fa19f5f78cbe"
      },
      "source": [
        "three_to_two_dim_mat = np.array([[3,3,4],[4,3,1],[1,2,4]])\n",
        "three_to_two_dim_mat"
      ],
      "execution_count": null,
      "outputs": [
        {
          "output_type": "execute_result",
          "data": {
            "text/plain": [
              "array([[3, 3, 4],\n",
              "       [4, 3, 1],\n",
              "       [1, 2, 4]])"
            ]
          },
          "metadata": {
            "tags": []
          },
          "execution_count": 2
        }
      ]
    },
    {
      "cell_type": "markdown",
      "metadata": {
        "id": "BHZxAR6BCFeQ"
      },
      "source": [
        "### Porpulate a 3 dimensional matrix with 2 elements (0)"
      ]
    },
    {
      "cell_type": "code",
      "metadata": {
        "id": "xlJmRut3CFeQ",
        "outputId": "44eb85aa-e46e-4d77-c86b-f47c81af7bb2"
      },
      "source": [
        "zeeros = np.zeros((3,2))\n",
        "zeeros"
      ],
      "execution_count": null,
      "outputs": [
        {
          "output_type": "execute_result",
          "data": {
            "text/plain": [
              "array([[0., 0.],\n",
              "       [0., 0.],\n",
              "       [0., 0.]])"
            ]
          },
          "metadata": {
            "tags": []
          },
          "execution_count": 29
        }
      ]
    },
    {
      "cell_type": "code",
      "metadata": {
        "id": "vK_BezXaCFeT",
        "outputId": "4421a53f-1539-47b0-9238-c056b0c4f6eb"
      },
      "source": [
        "array_sequence_number = np.arange(5,12)\n",
        "array_sequence_number"
      ],
      "execution_count": null,
      "outputs": [
        {
          "output_type": "execute_result",
          "data": {
            "text/plain": [
              "array([ 5,  6,  7,  8,  9, 10, 11])"
            ]
          },
          "metadata": {
            "tags": []
          },
          "execution_count": 5
        }
      ]
    },
    {
      "cell_type": "markdown",
      "metadata": {
        "id": "pncJsdBUCFeT"
      },
      "source": [
        "### What is the difference between random.randint && random.ramdom && >>> arrange?\n",
        "\n",
        ">Arange function: returns a specify sequence of number\n",
        "Random.random: returns a set or matrix of random floating numbers\n",
        "Random.randint: returns a set or matrix of random numbers within a specified range\n",
        "\n",
        "\n"
      ]
    },
    {
      "cell_type": "code",
      "metadata": {
        "id": "SYre-fN0CFeU",
        "outputId": "ed21d797-2bd8-4694-88ce-67b7260bcf8a"
      },
      "source": [
        "ran_num = np.random.randint(low = 50, high = 100,  size = (6))\n",
        "ran_num"
      ],
      "execution_count": null,
      "outputs": [
        {
          "output_type": "execute_result",
          "data": {
            "text/plain": [
              "array([81, 74, 88, 79, 90, 84])"
            ]
          },
          "metadata": {
            "tags": []
          },
          "execution_count": 6
        }
      ]
    },
    {
      "cell_type": "code",
      "metadata": {
        "id": "5Ayrw2GBCFeU",
        "outputId": "6ca5728b-8855-4e0d-82c7-715b229a4fa8"
      },
      "source": [
        "random_number = np.random.random(9)\n",
        "random_number"
      ],
      "execution_count": null,
      "outputs": [
        {
          "output_type": "execute_result",
          "data": {
            "text/plain": [
              "array([0.98717989, 0.45583862, 0.58177143, 0.90482245, 0.13202064,\n",
              "       0.42982921, 0.48995738, 0.91589235, 0.681521  ])"
            ]
          },
          "metadata": {
            "tags": []
          },
          "execution_count": 5
        }
      ]
    },
    {
      "cell_type": "markdown",
      "metadata": {
        "id": "Ro9Y0mhECFeV"
      },
      "source": [
        "### GOOGLE MACHINE LEARNING TASK:\n",
        "\n",
        ">Create a Linear Dataset\n",
        "       Assign as sequence of interger from 6-20 to a numpy array named label\n",
        "      \n",
        ">Asign 15 values to a numpy array named 'Label' \n",
        "Such that \n",
        "       label = (3)(feature)+4 = 22\n"
      ]
    },
    {
      "cell_type": "code",
      "metadata": {
        "id": "lNaSuUCLCFeV",
        "outputId": "498c44a5-8a63-47db-c9e6-d5e1c8092298"
      },
      "source": [
        "feature = np.arange(6,21)\n",
        "feature"
      ],
      "execution_count": null,
      "outputs": [
        {
          "output_type": "execute_result",
          "data": {
            "text/plain": [
              "array([ 6,  7,  8,  9, 10, 11, 12, 13, 14, 15, 16, 17, 18, 19, 20])"
            ]
          },
          "metadata": {
            "tags": []
          },
          "execution_count": 21
        }
      ]
    },
    {
      "cell_type": "code",
      "metadata": {
        "id": "_MDTnpY9CFeW",
        "outputId": "b44348a4-e80f-4bd4-80f8-bbb0c4e9a260"
      },
      "source": [
        "label = np.random.randint(low = 1, high = 50, size = (15))\n",
        "label"
      ],
      "execution_count": null,
      "outputs": [
        {
          "output_type": "execute_result",
          "data": {
            "text/plain": [
              "array([ 7, 11,  8,  4, 42, 12, 24, 32,  8, 48, 14, 46, 29, 12, 26])"
            ]
          },
          "metadata": {
            "tags": []
          },
          "execution_count": 22
        }
      ]
    },
    {
      "cell_type": "code",
      "metadata": {
        "id": "HcqcEgPbCFeW",
        "outputId": "d4be785c-6761-4d40-98f8-927e3387fa59"
      },
      "source": [
        "label = (3)*(feature)+4\n",
        "label"
      ],
      "execution_count": null,
      "outputs": [
        {
          "output_type": "execute_result",
          "data": {
            "text/plain": [
              "array([22, 25, 28, 31, 34, 37, 40, 43, 46, 49, 52, 55, 58, 61, 64])"
            ]
          },
          "metadata": {
            "tags": []
          },
          "execution_count": 24
        }
      ]
    },
    {
      "cell_type": "code",
      "metadata": {
        "id": "4Vt5jKQICFeW",
        "outputId": "ff7f264d-a7b3-47db-ce16-23b0baf9ee74"
      },
      "source": [
        "noise1_label = label -2\n",
        "noise2_label = label +2\n",
        "noise1_label"
      ],
      "execution_count": null,
      "outputs": [
        {
          "output_type": "execute_result",
          "data": {
            "text/plain": [
              "array([20, 23, 26, 29, 32, 35, 38, 41, 44, 47, 50, 53, 56, 59, 62])"
            ]
          },
          "metadata": {
            "tags": []
          },
          "execution_count": 27
        }
      ]
    },
    {
      "cell_type": "code",
      "metadata": {
        "id": "TjucJbLJCFeX",
        "outputId": "ad087883-a4f4-4b5c-a66c-b3f082025f8c"
      },
      "source": [
        "noise2_label"
      ],
      "execution_count": null,
      "outputs": [
        {
          "output_type": "execute_result",
          "data": {
            "text/plain": [
              "array([24, 27, 30, 33, 36, 39, 42, 45, 48, 51, 54, 57, 60, 63, 66])"
            ]
          },
          "metadata": {
            "tags": []
          },
          "execution_count": 26
        }
      ]
    },
    {
      "cell_type": "code",
      "metadata": {
        "id": "M_0OLaxoCFeX"
      },
      "source": [
        ""
      ],
      "execution_count": null,
      "outputs": []
    }
  ]
}